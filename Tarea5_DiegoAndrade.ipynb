{
  "nbformat": 4,
  "nbformat_minor": 0,
  "metadata": {
    "colab": {
      "provenance": [],
      "gpuType": "T4"
    },
    "kernelspec": {
      "name": "ir",
      "display_name": "R"
    },
    "language_info": {
      "name": "R"
    },
    "accelerator": "GPU"
  },
  "cells": [
    {
      "cell_type": "markdown",
      "source": [
        "**Tarea 5 Diego Saul Andrade Juarez**"
      ],
      "metadata": {
        "id": "JQP-zP_fwfzg"
      }
    },
    {
      "cell_type": "code",
      "source": [
        "# Instalar las bibliotecas necesarias\n",
        "install.packages(c(\"knitr\", \"tidyverse\", \"discrtr\", \"dplyr\", \"ggplot2\",\n",
        "                   \"mlogit\", \"readr\", \"gplots\", \"ggmosaic\",\n",
        "                   \"treemapify\", \"ggridges\", \"ggalluvial\",\n",
        "                   \"evd\", \"htmlwidgets\", \"kableExtra\",\n",
        "                   \"plotly\", \"tidyr\"))\n",
        "\n",
        "# Cargar las bibliotecas\n",
        "library(knitr)\n",
        "library(tidyverse)\n",
        "library(discrtr) # A companion package for the book Introduction to Discrete Choice Analysis with `R`\n",
        "library(dplyr) # A Grammar of Data Manipulation\n",
        "library(ggplot2) # Create Elegant Data Visualisations Using the Grammar of Graphics\n",
        "library(mlogit) # Multinomial Logit Models\n",
        "library(readr) # Read Rectangular Text Data\n",
        "library(gplots) # Various R Programming Tools for Plotting Data\n",
        "library(ggmosaic) # Mosaic Plots in the 'ggplot2' Framework\n",
        "library(treemapify)\n",
        "library(ggridges)\n",
        "library(ggalluvial)\n",
        "library(evd)\n",
        "library(htmlwidgets) # HTML Widgets for R\n",
        "library(kableExtra) # Construct Complex Table with kable and Pipe Syntax\n",
        "library(plotly) # Create interactive web graphics\n",
        "library(tidyr) # Tidy messy data\n",
        "# library(webshot2) # Take screenshots of web pages\n",
        "\n",
        "# Configurar opciones de knitr\n",
        "knitr::opts_chunk$set(echo = TRUE)"
      ],
      "metadata": {
        "id": "52QQl7mXaeEX",
        "colab": {
          "base_uri": "https://localhost:8080/"
        },
        "collapsed": true,
        "outputId": "c6be8846-946a-4d0d-fabb-984e5dfa0591"
      },
      "execution_count": null,
      "outputs": [
        {
          "output_type": "stream",
          "name": "stderr",
          "text": [
            "Installing packages into ‘/usr/local/lib/R/site-library’\n",
            "(as ‘lib’ is unspecified)\n",
            "\n",
            "also installing the dependencies ‘litedown’, ‘markdown’, ‘png’, ‘jpeg’, ‘bookdown’, ‘rbibutils’, ‘bitops’, ‘plyr’, ‘shades’, ‘gridtext’, ‘rmdformats’, ‘dfidx’, ‘Formula’, ‘zoo’, ‘lmtest’, ‘statmod’, ‘Rdpack’, ‘gtools’, ‘caTools’, ‘productplots’, ‘ggrepel’, ‘ggfittext’, ‘lazyeval’, ‘svglite’, ‘crosstalk’\n",
            "\n",
            "\n",
            "── \u001b[1mAttaching core tidyverse packages\u001b[22m ──────────────────────── tidyverse 2.0.0 ──\n",
            "\u001b[32m✔\u001b[39m \u001b[34mdplyr    \u001b[39m 1.1.4     \u001b[32m✔\u001b[39m \u001b[34mreadr    \u001b[39m 2.1.5\n",
            "\u001b[32m✔\u001b[39m \u001b[34mforcats  \u001b[39m 1.0.0     \u001b[32m✔\u001b[39m \u001b[34mstringr  \u001b[39m 1.5.1\n",
            "\u001b[32m✔\u001b[39m \u001b[34mggplot2  \u001b[39m 3.5.2     \u001b[32m✔\u001b[39m \u001b[34mtibble   \u001b[39m 3.2.1\n",
            "\u001b[32m✔\u001b[39m \u001b[34mlubridate\u001b[39m 1.9.4     \u001b[32m✔\u001b[39m \u001b[34mtidyr    \u001b[39m 1.3.1\n",
            "\u001b[32m✔\u001b[39m \u001b[34mpurrr    \u001b[39m 1.0.4     \n",
            "── \u001b[1mConflicts\u001b[22m ────────────────────────────────────────── tidyverse_conflicts() ──\n",
            "\u001b[31m✖\u001b[39m \u001b[34mdplyr\u001b[39m::\u001b[32mfilter()\u001b[39m masks \u001b[34mstats\u001b[39m::filter()\n",
            "\u001b[31m✖\u001b[39m \u001b[34mdplyr\u001b[39m::\u001b[32mlag()\u001b[39m    masks \u001b[34mstats\u001b[39m::lag()\n",
            "\u001b[36mℹ\u001b[39m Use the conflicted package (\u001b[3m\u001b[34m<http://conflicted.r-lib.org/>\u001b[39m\u001b[23m) to force all conflicts to become errors\n",
            "Loading required package: dfidx\n",
            "\n",
            "\n",
            "Attaching package: ‘dfidx’\n",
            "\n",
            "\n",
            "The following object is masked from ‘package:stats’:\n",
            "\n",
            "    filter\n",
            "\n",
            "\n",
            "\n",
            "Attaching package: ‘gplots’\n",
            "\n",
            "\n",
            "The following object is masked from ‘package:stats’:\n",
            "\n",
            "    lowess\n",
            "\n",
            "\n",
            "\n",
            "Attaching package: ‘kableExtra’\n",
            "\n",
            "\n",
            "The following object is masked from ‘package:dplyr’:\n",
            "\n",
            "    group_rows\n",
            "\n",
            "\n",
            "\n",
            "Attaching package: ‘plotly’\n",
            "\n",
            "\n",
            "The following object is masked from ‘package:ggplot2’:\n",
            "\n",
            "    last_plot\n",
            "\n",
            "\n",
            "The following object is masked from ‘package:stats’:\n",
            "\n",
            "    filter\n",
            "\n",
            "\n",
            "The following object is masked from ‘package:graphics’:\n",
            "\n",
            "    layout\n",
            "\n",
            "\n"
          ]
        }
      ]
    },
    {
      "cell_type": "markdown",
      "source": [
        "# **1. ¿Cuál es la diferencia entre un efecto marginal y una elasticidad?**\n",
        "\n",
        "*El efecto marginal muestra cuánto cambia una probabilidad si una variable aumenta un poco, mientras que la elasticidad muestra el cambio porcentual en la probabilidad frente a un cambio porcentual en la variable.*"
      ],
      "metadata": {
        "id": "uWt2x4UYyW5F"
      }
    },
    {
      "cell_type": "markdown",
      "source": [
        "# **2. ¿Por qué es inapropiado calcular la elasticidad de una variable dicotómica (dummy)?**\n",
        "\n",
        "*No se puede calcular elasticidad en una variable dummy porque solo toma valores 0 o 1, y los cambios porcentuales no se pueden medir en estos casos. En su lugar, se usan efectos marginales.*"
      ],
      "metadata": {
        "id": "eH57FVPTy-Tz"
      }
    },
    {
      "cell_type": "markdown",
      "source": [
        "# **3. ¿Cuáles son los efectos marginales y elasticidades del costo operativo en la media de todas las variables?**"
      ],
      "metadata": {
        "id": "_ceAWxjLz0Kh"
      }
    },
    {
      "cell_type": "code",
      "source": [
        "data(\"Heating\")\n",
        "\n",
        "H <- mlogit.data(Heating, shape = \"wide\", choice = \"depvar\", varying = 3:12)\n",
        "model3 <- mlogit(depvar ~ ic + oc, data = H, reflevel = \"ec\")\n",
        "\n",
        "medias <- Heating[1, ]\n",
        "medias[3:12] <- Heating %>% select(starts_with(\"ic\"), starts_with(\"oc\")) %>% summarise(across(everything(), mean))\n",
        "\n",
        "\n",
        "for (type in c(\"ra\", \"rr\")) {\n",
        "  result <- effects(model3, covariate = \"oc\", type = type, data = mlogit.data(medias, shape = \"wide\", choice = \"depvar\", varying = 3:12))\n",
        "  print(paste(\"Resultados para tipo:\", type))\n",
        "  print(result)\n",
        "}"
      ],
      "metadata": {
        "colab": {
          "base_uri": "https://localhost:8080/"
        },
        "id": "bYpWH546MIqi",
        "outputId": "c3d323fe-e841-45d4-c864-f3423146a5c3"
      },
      "execution_count": null,
      "outputs": [
        {
          "output_type": "stream",
          "name": "stdout",
          "text": [
            "[1] \"Resultados para tipo: ra\"\n",
            "              ec            er            gc            gr            hp\n",
            "ec -0.0065244800  0.0004718878  0.0004718878  0.0004718877  0.0004718878\n",
            "er  0.0006241011 -0.0063722666  0.0006241011  0.0006241011  0.0006241011\n",
            "gc  0.0045085704  0.0045085704 -0.0024877975  0.0045085704  0.0045085704\n",
            "gr  0.0010045002  0.0010045002  0.0010045002 -0.0059918675  0.0010045002\n",
            "hp  0.0003873084  0.0003873084  0.0003873084  0.0003873084 -0.0066090592\n",
            "[1] \"Resultados para tipo: rr\"\n",
            "            ec          er          gc          gr         hp\n",
            "ec -3.11089169  0.22499751  0.22499750  0.22499750  0.2249975\n",
            "er  0.26819487 -2.73835326  0.26819487  0.26819487  0.2681949\n",
            "gc  0.77599637  0.77599637 -0.42818936  0.77599637  0.7759964\n",
            "gr  0.15516657  0.15516657  0.15516657 -0.92557229  0.1551666\n",
            "hp  0.08493646  0.08493646  0.08493646  0.08493646 -1.4493621\n"
          ]
        }
      ]
    },
    {
      "cell_type": "markdown",
      "source": [
        "# **4. ¿Qué subsidio se necesita para que las bombas de calor tengan 10% de adopción?**\n",
        "\n",
        "*El subsidio necesario es de $450 unidades monetarias para lograr que el 10% de los hogares elijan bombas de calor, segunún lo que nos dice el modelo*"
      ],
      "metadata": {
        "id": "MkddkTZR01w8"
      }
    },
    {
      "cell_type": "code",
      "source": [
        "descuentos <- seq(0, 2000, by = 50)\n",
        "\n",
        "hp_shares <- numeric(length(descuentos))\n",
        "\n",
        "\n",
        "Heating_original <- Heating\n",
        "for (i in seq_along(descuentos)) {\n",
        "  Heating_temp <- Heating_original\n",
        "  Heating_temp$ic.hp <- Heating_temp$ic.hp - descuentos[i]\n",
        "\n",
        "prob_temp <- predict(model3, newdata = mlogit.data(Heating_temp, shape = \"wide\", choice = \"depvar\", varying = 3:12, id.var = \"idcase\"), type = \"probabilities\")\n",
        "\n",
        "  hp_shares[i] <- mean(prob_temp[, \"hp\"])}\n",
        "\n",
        "\n",
        "required_descuento <- descuentos[which(hp_shares >= 0.10)[1]]\n",
        "required_descuento"
      ],
      "metadata": {
        "colab": {
          "base_uri": "https://localhost:8080/",
          "height": 34
        },
        "id": "sttfQZAAO1Py",
        "outputId": "3e605888-0151-4070-ed38-2c7a294316aa"
      },
      "execution_count": null,
      "outputs": [
        {
          "output_type": "display_data",
          "data": {
            "text/html": [
              "450"
            ],
            "text/markdown": "450",
            "text/latex": "450",
            "text/plain": [
              "[1] 450"
            ]
          },
          "metadata": {}
        }
      ]
    },
    {
      "cell_type": "markdown",
      "source": [
        "# **4.1 Estima un nuevo modelo con la edad del jefe del hogar y referencia “er”.**"
      ],
      "metadata": {
        "id": "hUldz4Jb1qf_"
      }
    },
    {
      "cell_type": "code",
      "source": [
        "model4 <- mlogit(depvar ~ ic + oc | agehed, Heating, shape = \"wide\", choice = \"depvar\", reflevel = \"er\", varying = c(3:12))\n",
        "\n",
        "summary(model4)"
      ],
      "metadata": {
        "colab": {
          "base_uri": "https://localhost:8080/",
          "height": 593
        },
        "id": "pgap0UR4SdfB",
        "outputId": "84f26172-f9ee-4e00-834f-12c1de4c1d31"
      },
      "execution_count": null,
      "outputs": [
        {
          "output_type": "display_data",
          "data": {
            "text/plain": [
              "\n",
              "Call:\n",
              "mlogit(formula = depvar ~ ic + oc | agehed, data = Heating, reflevel = \"er\", \n",
              "    shape = \"wide\", choice = \"depvar\", varying = c(3:12), method = \"nr\")\n",
              "\n",
              "Frequencies of alternatives:choice\n",
              "      er       ec       gc       gr       hp \n",
              "0.093333 0.071111 0.636667 0.143333 0.055556 \n",
              "\n",
              "nr method\n",
              "6 iterations, 0h:0m:0s \n",
              "g'(-H)^-1g = 3.7E-05 \n",
              "successive function values within tolerance limits \n",
              "\n",
              "Coefficients :\n",
              "                  Estimate  Std. Error z-value  Pr(>|z|)    \n",
              "(Intercept):ec -1.23573437  0.54579124 -2.2641 0.0235670 *  \n",
              "(Intercept):gc -1.00448043  0.53688731 -1.8709 0.0613543 .  \n",
              "(Intercept):gr -2.57939938  0.61056437 -4.2246 2.393e-05 ***\n",
              "(Intercept):hp -2.10149168  0.63311233 -3.3193 0.0009024 ***\n",
              "ic             -0.00152526  0.00062225 -2.4512 0.0142385 *  \n",
              "oc             -0.00703320  0.00155731 -4.5163 6.294e-06 ***\n",
              "agehed:ec       0.02501028  0.01201972  2.0808 0.0374550 *  \n",
              "agehed:gc       0.02070566  0.00858773  2.4111 0.0159056 *  \n",
              "agehed:gr       0.02462347  0.01024474  2.4035 0.0162379 *  \n",
              "agehed:hp       0.00604848  0.01293750  0.4675 0.6401310    \n",
              "---\n",
              "Signif. codes:  0 ‘***’ 0.001 ‘**’ 0.01 ‘*’ 0.05 ‘.’ 0.1 ‘ ’ 1\n",
              "\n",
              "Log-Likelihood: -1003.8\n",
              "McFadden R^2:  0.01805 \n",
              "Likelihood ratio test : chisq = 36.903 (p.value = 1.8391e-06)"
            ]
          },
          "metadata": {}
        }
      ]
    },
    {
      "cell_type": "markdown",
      "source": [
        "# **6. Compara el nuevo modelo con el Modelo 3 con una prueba de razón de verosimilitud.**"
      ],
      "metadata": {
        "id": "rW7CQea61_FI"
      }
    },
    {
      "cell_type": "code",
      "source": [
        "lrtest(model3, model4)"
      ],
      "metadata": {
        "id": "WScyg5BFSk7L",
        "outputId": "81282024-08a5-4e02-cf42-9e9b4ef60e8d",
        "colab": {
          "base_uri": "https://localhost:8080/",
          "height": 159
        }
      },
      "execution_count": null,
      "outputs": [
        {
          "output_type": "display_data",
          "data": {
            "text/html": [
              "<table class=\"dataframe\">\n",
              "<caption>A anova: 2 × 5</caption>\n",
              "<thead>\n",
              "\t<tr><th></th><th scope=col>#Df</th><th scope=col>LogLik</th><th scope=col>Df</th><th scope=col>Chisq</th><th scope=col>Pr(&gt;Chisq)</th></tr>\n",
              "\t<tr><th></th><th scope=col>&lt;dbl&gt;</th><th scope=col>&lt;dbl&gt;</th><th scope=col>&lt;dbl&gt;</th><th scope=col>&lt;dbl&gt;</th><th scope=col>&lt;dbl&gt;</th></tr>\n",
              "</thead>\n",
              "<tbody>\n",
              "\t<tr><th scope=row>1</th><td> 6</td><td>-1008.229</td><td>NA</td><td>      NA</td><td>        NA</td></tr>\n",
              "\t<tr><th scope=row>2</th><td>10</td><td>-1003.772</td><td> 4</td><td>8.913225</td><td>0.06330541</td></tr>\n",
              "</tbody>\n",
              "</table>\n"
            ],
            "text/markdown": "\nA anova: 2 × 5\n\n| <!--/--> | #Df &lt;dbl&gt; | LogLik &lt;dbl&gt; | Df &lt;dbl&gt; | Chisq &lt;dbl&gt; | Pr(&gt;Chisq) &lt;dbl&gt; |\n|---|---|---|---|---|---|\n| 1 |  6 | -1008.229 | NA |       NA |         NA |\n| 2 | 10 | -1003.772 |  4 | 8.913225 | 0.06330541 |\n\n",
            "text/latex": "A anova: 2 × 5\n\\begin{tabular}{r|lllll}\n  & \\#Df & LogLik & Df & Chisq & Pr(>Chisq)\\\\\n  & <dbl> & <dbl> & <dbl> & <dbl> & <dbl>\\\\\n\\hline\n\t1 &  6 & -1008.229 & NA &       NA &         NA\\\\\n\t2 & 10 & -1003.772 &  4 & 8.913225 & 0.06330541\\\\\n\\end{tabular}\n",
            "text/plain": [
              "  #Df LogLik    Df Chisq    Pr(>Chisq)\n",
              "1  6  -1008.229 NA       NA         NA\n",
              "2 10  -1003.772  4 8.913225 0.06330541"
            ]
          },
          "metadata": {}
        }
      ]
    },
    {
      "cell_type": "markdown",
      "source": [
        "# **6. ¿Es significativa la razón entre el coeficiente del coste de instalación (u operación) y el coeficiente de la edad del jefe de familia? Explique.**\n",
        "\n",
        "*No se puede intrerpretar ños valores de los coeficientes ya que son distintos tipos de variables uno es especifico de la algernativa y otra del individuo*"
      ],
      "metadata": {
        "id": "91lViiF62ORm"
      }
    }
  ]
}